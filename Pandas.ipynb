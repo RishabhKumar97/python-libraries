{
 "cells": [
  {
   "cell_type": "code",
   "execution_count": 0,
   "metadata": {
    "application/vnd.databricks.v1+cell": {
     "cellMetadata": {},
     "inputWidgets": {},
     "nuid": "80bd74c1-41df-404e-a192-9aa32a4cfb61",
     "showTitle": false,
     "tableResultSettingsMap": {},
     "title": ""
    }
   },
   "outputs": [],
   "source": [
    "import random\n",
    "import pandas as pd\n",
    " \n",
    " \n",
    "def generate_random_records(num_records= 50):\n",
    "    records = {\n",
    "    #  'roll_no': [],\n",
    "     'name': [],\n",
    "     'subject': [], \n",
    "     'marks' : [], \n",
    "     'class': []\n",
    "    }\n",
    "    name_choices = ['Rishabh', 'Abhishek', 'Rahul', 'Rohan', 'Sandeep', 'Tanya', None]\n",
    "    class_choices = [str(i) + \"th\" for i in range(10 ,13)]\n",
    "    class_choices.append(None)\n",
    "    marks_choices = [i for i in range(20 , 101)]\n",
    "    marks_choices.append(None)\n",
    "    subject_choices = [\"C.S\",  \"Maths\", \"English\", \"Physics\", \"Chemistry\", None]\n",
    "    for i in range(num_records+1):\n",
    "        records['name'].append(random.choice(name_choices))\n",
    "        records['subject'].append(random.choice(subject_choices))\n",
    "        records['marks'].append(random.choice(marks_choices))\n",
    "        records['class'].append(random.choice(class_choices))\n",
    "    return records\n",
    " \n",
    "def fill_nulls_with_defaults(df, default_map):\n",
    "    df.fillna(value= default_map, inplace= True)\n",
    "    return df\n",
    " \n",
    "def drop_nulls(df, cols_list, how, ignore_index):\n",
    "    return df.dropna(subset =cols_list, how= how, ignore_index= ignore_index)\n",
    "\n",
    " \n",
    "def check_duplicates(df):\n",
    "    pass\n",
    " \n",
    "def print_sep_lines(msg= '-'):\n",
    "    print(f\"{'-'*30}{msg}{'-'*30}\")\n",
    "def main():\n",
    "    df1 = pd.DataFrame(generate_random_records(10))\n",
    "    df2 = pd.DataFrame(generate_random_records(10))\n",
    "    print_sep_lines(\"Orig df1\")\n",
    "    print(df1)\n",
    "    print_sep_lines(\"Orig df2\")\n",
    "    print(df2)\n",
    "    print_sep_lines(\"union\")\n",
    "    df3 = pd.DataFrame(columns = list(df1.columns))\n",
    "    df_list = [df1, df2]\n",
    "    for each in df_list:\n",
    "        df3 = pd.concat([df3, each])\n",
    "    print(df3.reset_index(drop= True))\n",
    "\n",
    "    # print(df1.merge(df2, how ='inner', on = list(df1.columns)))\n",
    "    # df['passed'] = df['marks'].apply(lambda m: True if m > 33 else False)\n",
    "    # df_passed = df[df['passed'] == True]\n",
    "    # print(\"df datatypes:\\n\", df.dtypes)\n",
    "    # default_map = {'name': 'Missing', 'subject': 'Missing', 'class': \"Missing\"}\n",
    "    # print(fill_nulls_with_defaults(df, default_map))\n",
    "    # print(drop_nulls(df, list(df.columns), how = 'any', ignore_index= True))\n",
    "    # print(df.groupby(['class'])\n",
    "    #         .agg({'marks': 'sum'})\n",
    "    #         .reset_index(drop= True)\n",
    "    #         .rename(columns= {'marks' : 'sum_of_marks'})\n",
    "    # )\n",
    " \n",
    "    \n",
    "if __name__ == '__main__':\n",
    "    main()\n",
    " \n",
    "  \n",
    " "
   ]
  }
 ],
 "metadata": {
  "application/vnd.databricks.v1+notebook": {
   "computePreferences": null,
   "dashboards": [],
   "environmentMetadata": {
    "base_environment": "",
    "environment_version": "2"
   },
   "inputWidgetPreferences": null,
   "language": "python",
   "notebookMetadata": {
    "pythonIndentUnit": 4
   },
   "notebookName": "Pandas",
   "widgets": {}
  },
  "language_info": {
   "name": "python"
  }
 },
 "nbformat": 4,
 "nbformat_minor": 0
}
