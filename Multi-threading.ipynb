{
 "cells": [
  {
   "cell_type": "code",
   "execution_count": 0,
   "metadata": {
    "application/vnd.databricks.v1+cell": {
     "cellMetadata": {},
     "inputWidgets": {},
     "nuid": "dac8e27a-3ba9-4ec3-a1ee-ea98b3f9fec7",
     "showTitle": false,
     "tableResultSettingsMap": {},
     "title": ""
    }
   },
   "outputs": [],
   "source": [
    "from concurrent.futures import ThreadPoolExecutor, as_completed\n",
    "import time\n",
    " \n",
    " \n",
    "def time_it(fn):\n",
    "    def wrapper_time_it(*args, **kwargs):\n",
    "        start_time = time.time()\n",
    "        result = fn(*args, **kwargs)\n",
    "        end_time = time.time()\n",
    "        print(f\"Function {fn.__name__} took {round((end_time - start_time), 2)}\")\n",
    "        return result\n",
    "    return wrapper_time_it\n",
    "@time_it\n",
    "def process_io(n):\n",
    "    time.sleep(n)\n",
    "    return None\n",
    " \n",
    " \n",
    "with ThreadPoolExecutor() as e:\n",
    "    threads = [e.submit(process_io, 2) for _ in range(5)]\n",
    "    for completed_thread in as_completed(threads):\n",
    "        try:\n",
    "            completed_thread.result()\n",
    "        except:\n",
    "            print(e)\n",
    "            continue\n",
    "    actual_end_time = time.time()"
   ]
  },
  {
   "cell_type": "code",
   "execution_count": 0,
   "metadata": {
    "application/vnd.databricks.v1+cell": {
     "cellMetadata": {},
     "inputWidgets": {},
     "nuid": "faa0d015-8e61-49d4-a880-74c7ae6d6c7d",
     "showTitle": false,
     "tableResultSettingsMap": {},
     "title": ""
    }
   },
   "outputs": [],
   "source": [
    "\n",
    "import threading\n",
    "import multiprocessing\n",
    "import time\n",
    "\n",
    "def run_in_threads(num_threads= 1):\n",
    "    def makeThread(func):\n",
    "        def wrapper_makeThread(*args, **kwargs):\n",
    "            threads = []\n",
    "            for _ in range(num_threads): \n",
    "                threads.append(threading.Thread(target= func, args= args, kwargs= kwargs))\n",
    "            return threads\n",
    "        return wrapper_makeThread\n",
    "    return makeThread\n",
    "\n",
    "# def run_in_processes(num_processes= 1):\n",
    "#     def makeProcess(func):\n",
    "#         def wrapper_makeProcess(*args, **kwargs):\n",
    "#             processes = []\n",
    "#             for _ in range(num_processes): \n",
    "#                 processes.append(multiprocessing.Process(target= func, args= args, kwargs= kwargs))\n",
    "#             return processes\n",
    "#         return wrapper_makeProcess\n",
    "#     return makeProcess\n",
    "    \n",
    "    \n",
    "@run_in_threads(num_threads= 2)\n",
    "def wait(sec= 2, msg= \"\"):\n",
    "    print(f\"starting waiting for {sec} secs\")\n",
    "    time.sleep(sec)\n",
    "    print(msg)\n",
    "    print(f\"Done waiting for {sec} secs\")\n",
    "\n",
    "\n",
    "threads = wait(sec= 4, msg= \"hello\")\n",
    "\n",
    "for t in threads:\n",
    "    t.start()\n",
    "\n",
    "\n",
    "\n",
    "\n",
    "        "
   ]
  }
 ],
 "metadata": {
  "application/vnd.databricks.v1+notebook": {
   "computePreferences": null,
   "dashboards": [],
   "environmentMetadata": {
    "base_environment": "",
    "environment_version": "2"
   },
   "inputWidgetPreferences": null,
   "language": "python",
   "notebookMetadata": {
    "pythonIndentUnit": 4
   },
   "notebookName": "Multi-threading",
   "widgets": {}
  },
  "language_info": {
   "name": "python"
  }
 },
 "nbformat": 4,
 "nbformat_minor": 0
}
