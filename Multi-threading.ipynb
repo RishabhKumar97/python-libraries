{
 "cells": [
  {
   "cell_type": "code",
   "execution_count": 0,
   "metadata": {
    "application/vnd.databricks.v1+cell": {
     "cellMetadata": {},
     "inputWidgets": {},
     "nuid": "dac8e27a-3ba9-4ec3-a1ee-ea98b3f9fec7",
     "showTitle": false,
     "tableResultSettingsMap": {},
     "title": ""
    }
   },
   "outputs": [],
   "source": [
    "from concurrent.futures import ThreadPoolExecutor, as_completed\n",
    "import time\n",
    " \n",
    " \n",
    "def time_it(fn):\n",
    "    def wrapper_time_it(*args, **kwargs):\n",
    "        start_time = time.time()\n",
    "        result = fn(*args, **kwargs)\n",
    "        end_time = time.time()\n",
    "        print(f\"Function {fn.__name__} took {round((end_time - start_time), 2)}\")\n",
    "        return result\n",
    "    return wrapper_time_it\n",
    "@time_it\n",
    "def process_io(n):\n",
    "    time.sleep(n)\n",
    "    return None\n",
    " \n",
    " \n",
    "with ThreadPoolExecutor() as e:\n",
    "    threads = [e.submit(process_io, 2) for _ in range(5)]\n",
    "    for completed_thread in as_completed(threads):\n",
    "        try:\n",
    "            completed_thread.result()\n",
    "        except:\n",
    "            print(e)\n",
    "            continue\n",
    "    actual_end_time = time.time()"
   ]
  }
 ],
 "metadata": {
  "application/vnd.databricks.v1+notebook": {
   "computePreferences": null,
   "dashboards": [],
   "environmentMetadata": {
    "base_environment": "",
    "environment_version": "2"
   },
   "inputWidgetPreferences": null,
   "language": "python",
   "notebookMetadata": {
    "pythonIndentUnit": 4
   },
   "notebookName": "Multi-threading",
   "widgets": {}
  },
  "language_info": {
   "name": "python"
  }
 },
 "nbformat": 4,
 "nbformat_minor": 0
}
